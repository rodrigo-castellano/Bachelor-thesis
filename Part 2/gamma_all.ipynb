{
 "cells": [
  {
   "cell_type": "code",
   "execution_count": 1,
   "metadata": {},
   "outputs": [],
   "source": [
    "import pandas as pd\n",
    "import numpy as np\n",
    "import matplotlib.pyplot as plt\n",
    "\n",
    "import tensorflow as tf\n",
    "from tensorflow import keras"
   ]
  },
  {
   "cell_type": "code",
   "execution_count": 2,
   "metadata": {},
   "outputs": [],
   "source": [
    "# load numpy array from npy file\n",
    "from numpy import load\n",
    "# load array\n",
    "dset1 = load('files/gamma_image.npy')\n",
    "dset2 = load('files/electron_image.npy')\n",
    "dset3 = load('files/proton_image.npy')\n",
    "dset4 = load('files/helium_image.npy')\n",
    "dset5 = load('files/nitrogen_image.npy')\n",
    "dset6 = load('files/iron_image.npy')\n",
    "dset7 = load('files/silicon_image.npy')"
   ]
  },
  {
   "cell_type": "code",
   "execution_count": 3,
   "metadata": {},
   "outputs": [
    {
     "data": {
      "image/png": "[encoded data removed]",
      "text/plain": [
       "<Figure size 432x288 with 1 Axes>"
      ]
     },
     "metadata": {
      "needs_background": "light"
     },
     "output_type": "display_data"
    }
   ],
   "source": [
    "import matplotlib.pyplot as plt\n",
    "plt.imshow(dset6[2], interpolation='none',aspect='auto')\n",
    "fig_size = plt.rcParams[\"figure.figsize\"]\n",
    "plt.show()"
   ]
  },
  {
   "cell_type": "markdown",
   "metadata": {},
   "source": [
    "### split data"
   ]
  },
  {
   "cell_type": "code",
   "execution_count": 4,
   "metadata": {},
   "outputs": [
    {
     "name": "stdout",
     "output_type": "stream",
     "text": [
      "Wall time: 2.26 s\n"
     ]
    }
   ],
   "source": [
    "%%time\n",
    "# tot=0\n",
    "# for i in range (1,8):\n",
    "#     tot=tot+(eval('dset'+str(i)).shape)[0]\n",
    "\n",
    "target0=np.zeros(dset1.shape[0]) #esto es gamma\n",
    "target1=np.ones(dset2.shape[0]+dset3.shape[0]+dset4.shape[0]+dset5.shape[0]+dset6.shape[0]+dset7.shape[0])\n",
    "target=np.concatenate((target0, target1), axis=0)\n",
    "#put the dataset together\n",
    "data=np.concatenate((dset1,dset2,dset3,dset4,dset5,dset6,dset7),axis=0)"
   ]
  },
  {
   "cell_type": "code",
   "execution_count": 5,
   "metadata": {},
   "outputs": [],
   "source": [
    "import sklearn\n",
    "from sklearn.model_selection import train_test_split\n",
    "X_train, X_test, y_train, y_test = train_test_split(data, target, test_size=0.20, random_state=2)  "
   ]
  },
  {
   "cell_type": "code",
   "execution_count": 6,
   "metadata": {},
   "outputs": [
    {
     "name": "stderr",
     "output_type": "stream",
     "text": [
      "Using TensorFlow backend.\n"
     ]
    }
   ],
   "source": [
    "from __future__ import print_function\n",
    "import keras\n",
    "from keras.datasets import mnist\n",
    "from keras.models import Sequential\n",
    "from keras.layers import Dense, Dropout, Flatten\n",
    "from keras.layers import Conv2D, MaxPooling2D\n",
    "from keras import backend as K\n",
    "\n",
    "# input image dimensions\n",
    "imgRows, imgCols = 55, 93\n",
    "numChannels=1\n",
    "samples=X_train.shape[0]\n",
    "numClasses=2\n",
    "\n",
    "x_train=X_train\n",
    "x_test=X_test\n",
    "#PARA PONER LOS CANALES AL PPO\n",
    "# x_train = x_train.reshape(x_train.shape[0], 1, img_rows, img_cols)\n",
    "# x_test = x_test.reshape(x_test.shape[0], 1, img_rows, img_cols)\n",
    "# input_shape = (1, img_rows, img_cols)\n",
    "\n",
    "x_train = x_train.reshape(x_train.shape[0], imgRows, imgCols, 1)\n",
    "x_test = x_test.reshape(x_test.shape[0], imgRows, imgCols, 1)\n",
    "input_shape = (imgRows, imgCols, 1)\n",
    "\n",
    "x_train = x_train.astype('float32')\n",
    "x_test = x_test.astype('float32')\n"
   ]
  },
  {
   "cell_type": "markdown",
   "metadata": {},
   "source": [
    "## NN"
   ]
  },
  {
   "cell_type": "code",
   "execution_count": 7,
   "metadata": {},
   "outputs": [],
   "source": [
    "model = tf.keras.models.Sequential()\n",
    "model.add(tf.keras.layers.Flatten())\n",
    "model.add(tf.keras.layers.Dense(128, activation=tf.nn.relu))\n",
    "model.add(tf.keras.layers.Dense(128, activation=tf.nn.relu))\n",
    "model.add(tf.keras.layers.Dense(numClasses, activation=tf.nn.softmax))\n",
    "model.compile(optimizer='adam',\n",
    "              loss='sparse_categorical_crossentropy',\n",
    "              metrics=['accuracy'])"
   ]
  },
  {
   "cell_type": "code",
   "execution_count": 8,
   "metadata": {},
   "outputs": [
    {
     "name": "stdout",
     "output_type": "stream",
     "text": [
      "Train on 22155 samples, validate on 5539 samples\n",
      "22155/22155 [==============================] - 5s 239us/sample - loss: 0.0306 - accuracy: 0.9968 - val_loss: 0.0125 - val_accuracy: 0.9971\n"
     ]
    },
    {
     "data": {
      "text/plain": [
       "<tensorflow.python.keras.callbacks.History at 0x2728127c808>"
      ]
     },
     "execution_count": 8,
     "metadata": {},
     "output_type": "execute_result"
    }
   ],
   "source": [
    "model.fit(X_train, y_train, epochs=1, validation_data=(x_test, y_test)) #epochs es el numero de iteraciones hasta alcanzar un loss minimo"
   ]
  },
  {
   "cell_type": "code",
   "execution_count": 10,
   "metadata": {},
   "outputs": [
    {
     "name": "stdout",
     "output_type": "stream",
     "text": [
      "5539/5539 [==============================] - 0s 88us/sample - loss: 0.0111 - accuracy: 0.9971\n",
      "0.9971114\n",
      "[[2425    6]\n",
      " [  10 3098]]\n",
      "              precision    recall  f1-score   support\n",
      "\n",
      "         0.0       1.00      1.00      1.00      2431\n",
      "         1.0       1.00      1.00      1.00      3108\n",
      "\n",
      "    accuracy                           1.00      5539\n",
      "   macro avg       1.00      1.00      1.00      5539\n",
      "weighted avg       1.00      1.00      1.00      5539\n",
      "\n"
     ]
    }
   ],
   "source": [
    "val_loss, val_acc = model.evaluate(X_test, y_test)\n",
    "# print(val_loss)\n",
    "print(val_acc)\n",
    "from sklearn.metrics import classification_report, confusion_matrix\n",
    "y_pred = model.predict_classes(X_test)\n",
    "print(confusion_matrix(y_test, y_pred))\n",
    "print(classification_report(y_test, y_pred))"
   ]
  },
  {
   "cell_type": "markdown",
   "metadata": {},
   "source": [
    "# build model"
   ]
  },
  {
   "cell_type": "code",
   "execution_count": 11,
   "metadata": {},
   "outputs": [],
   "source": [
    "def create_model(stride=2,pool=2,filters=20,kernel=5,hidden_layers=1,neurons=128,optimizer='adam',\n",
    "                 learn_rate=0.001, init_mode='glorot_uniform', activation='relu', dropout_rate=0.2,\n",
    "                 weight_constraint=0):#parameters here are default\n",
    "    #create model\n",
    "    \n",
    "    #los weight_initializer son mas optimos dependiendo de la funcion de activacion\n",
    "   # initialize the model\n",
    "    model = Sequential()\n",
    "    inputShape = (imgRows, imgCols,numChannels)                                                                        \n",
    "    # define the first set of CONV => ACTIVATION => POOL layers\n",
    "    model.add(Conv2D(filters, kernel, padding=\"same\",input_shape=inputShape, activation=activation))\n",
    "    model.add(MaxPooling2D(pool_size=(pool, pool), strides=(stride, stride)))  \n",
    "    # define the second set of CONV => ACTIVATION => POOL layers\n",
    "    model.add(Conv2D(int(round(filters*5/2)), kernel, padding=\"same\", activation=activation))\n",
    "    model.add(MaxPooling2D(pool_size=(pool, pool), strides=(stride, stride)))\n",
    "    # define the first FC => ACTIVATION layers\n",
    "    \n",
    "    model.add(Flatten())\n",
    "    for i in range(hidden_layers):\n",
    "        model.add(Dense(neurons,kernel_initializer=init_mode,  activation=activation)) \n",
    "        #model.add(BatchNormalization(axis=-1, momentum=0.99, epsilon=0.001, center=True, scale=True, beta_initializer='zeros', gamma_initializer='ones', moving_mean_initializer='zeros', moving_variance_initializer='ones', beta_regularizer=None, gamma_regularizer=None, beta_constraint=None, gamma_constraint=None))    #, use_bias=False\n",
    "        #model.add(Dropout(dropout_rate)) \n",
    "    # lastly, define the soft-max classifier\n",
    "    model.add(Dense(numClasses, activation='softmax'))\n",
    "  \n",
    "    model.compile(optimizer='adam',loss='sparse_categorical_crossentropy',metrics=['accuracy'])              \n",
    "\n",
    "    return model\n",
    "\n",
    "# fix random seed for reproducibility\n",
    "seed = 7\n",
    "np.random.seed(seed)\n"
   ]
  },
  {
   "cell_type": "code",
   "execution_count": 12,
   "metadata": {},
   "outputs": [
    {
     "name": "stdout",
     "output_type": "stream",
     "text": [
      "Model: \"sequential_2\"\n",
      "_________________________________________________________________\n",
      "Layer (type)                 Output Shape              Param #   \n",
      "=================================================================\n",
      "conv2d_3 (Conv2D)            (None, 55, 93, 20)        520       \n",
      "_________________________________________________________________\n",
      "max_pooling2d_3 (MaxPooling2 (None, 27, 46, 20)        0         \n",
      "_________________________________________________________________\n",
      "conv2d_4 (Conv2D)            (None, 27, 46, 50)        25050     \n",
      "_________________________________________________________________\n",
      "max_pooling2d_4 (MaxPooling2 (None, 13, 23, 50)        0         \n",
      "_________________________________________________________________\n",
      "flatten_2 (Flatten)          (None, 14950)             0         \n",
      "_________________________________________________________________\n",
      "dense_3 (Dense)              (None, 128)               1913728   \n",
      "_________________________________________________________________\n",
      "dense_4 (Dense)              (None, 2)                 258       \n",
      "=================================================================\n",
      "Total params: 1,939,556\n",
      "Trainable params: 1,939,556\n",
      "Non-trainable params: 0\n",
      "_________________________________________________________________\n"
     ]
    }
   ],
   "source": [
    "shape=x_train.shape\n",
    "model=create_model()\n",
    "model.build(shape) \n",
    "model.summary()"
   ]
  },
  {
   "cell_type": "code",
   "execution_count": 79,
   "metadata": {},
   "outputs": [
    {
     "name": "stdout",
     "output_type": "stream",
     "text": [
      "Train on 22076 samples, validate on 5519 samples\n",
      "Epoch 1/1\n",
      "22076/22076 [==============================] - 219s 10ms/step - loss: 0.0385 - accuracy: 0.9917 - val_loss: 0.0128 - val_accuracy: 0.9978\n",
      "Wall time: 3min 41s\n"
     ]
    }
   ],
   "source": [
    "%%time\n",
    "model=create_model()\n",
    "history=model.fit(x_train, y_train, epochs=1,batch_size=128, validation_data=(x_test, y_test))"
   ]
  },
  {
   "cell_type": "code",
   "execution_count": 80,
   "metadata": {},
   "outputs": [
    {
     "name": "stdout",
     "output_type": "stream",
     "text": [
      "5519/5519 [==============================] - 15s 3ms/step\n",
      "0.9978256821632385\n",
      "[[2419    2]\n",
      " [  10 3088]]\n",
      "              precision    recall  f1-score   support\n",
      "\n",
      "         0.0       1.00      1.00      1.00      2421\n",
      "         1.0       1.00      1.00      1.00      3098\n",
      "\n",
      "    accuracy                           1.00      5519\n",
      "   macro avg       1.00      1.00      1.00      5519\n",
      "weighted avg       1.00      1.00      1.00      5519\n",
      "\n"
     ]
    }
   ],
   "source": [
    "val_loss, val_acc = model.evaluate(x_test, y_test)\n",
    "# print(val_loss)\n",
    "print(val_acc)\n",
    "from sklearn.metrics import classification_report, confusion_matrix\n",
    "y_pred = model.predict_classes(x_test)\n",
    "print(confusion_matrix(y_test, y_pred))\n",
    "print(classification_report(y_test, y_pred))"
   ]
  }
 ],
 "metadata": {
  "kernelspec": {
   "display_name": "Python 3",
   "language": "python",
   "name": "python3"
  },
  "language_info": {
   "codemirror_mode": {
    "name": "ipython",
    "version": 3
   },
   "file_extension": ".py",
   "mimetype": "text/x-python",
   "name": "python",
   "nbconvert_exporter": "python",
   "pygments_lexer": "ipython3",
   "version": "3.7.7"
  },
  "varInspector": {
   "cols": {
    "lenName": 16,
    "lenType": 16,
    "lenVar": 40
   },
   "kernels_config": {
    "python": {
     "delete_cmd_postfix": "",
     "delete_cmd_prefix": "del ",
     "library": "var_list.py",
     "varRefreshCmd": "print(var_dic_list())"
    },
    "r": {
     "delete_cmd_postfix": ") ",
     "delete_cmd_prefix": "rm(",
     "library": "var_list.r",
     "varRefreshCmd": "cat(var_dic_list()) "
    }
   },
   "types_to_exclude": [
    "module",
    "function",
    "builtin_function_or_method",
    "instance",
    "_Feature"
   ],
   "window_display": false
  }
 },
 "nbformat": 4,
 "nbformat_minor": 4
}
